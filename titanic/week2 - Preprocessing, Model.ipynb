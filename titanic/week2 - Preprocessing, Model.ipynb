{
 "cells": [
  {
   "cell_type": "code",
   "execution_count": 46,
   "metadata": {},
   "outputs": [],
   "source": [
    "import numpy as np\n",
    "import pandas as pd\n",
    "import matplotlib.pyplot as plt\n",
    "import seaborn as sns\n",
    "\n",
    "plt.style.use('seaborn')\n",
    "sns.set(font_scale=2.5)\n",
    "\n",
    "#ignore warnings\n",
    "import warnings\n",
    "warnings.filterwarnings('ignore')\n",
    "\n",
    "%matplotlib inline"
   ]
  },
  {
   "cell_type": "code",
   "execution_count": 47,
   "metadata": {},
   "outputs": [],
   "source": [
    "import os\n",
    "import zipfile\n",
    "\n",
    "TITANIC = 'titanic'\n",
    "TITANIC_PATH = os.path.join(\"datasets\", \"titanic\")\n",
    "\n",
    "def fetch_housing_data(titanic=TITANIC, titanic_path=TITANIC_PATH):\n",
    "    os.makedirs(titanic_path, exist_ok=True)\n",
    "    os.system(f'kaggle competitions download -c {titanic} -p {titanic_path}')\n",
    "    zipfile.ZipFile(f'{titanic_path}/{titanic}.zip').extractall(titanic_path)\n",
    "\n",
    "fetch_housing_data()\n"
   ]
  },
  {
   "cell_type": "code",
   "execution_count": 48,
   "metadata": {},
   "outputs": [],
   "source": [
    "df_train = pd.read_csv(f'{TITANIC_PATH}/train.csv')\n",
    "df_test = pd.read_csv(f'{TITANIC_PATH}/test.csv')\n",
    "\n",
    "df_train['FamilySize'] = df_train['SibSp'] + df_train['Parch'] + 1 # 1 for the passenger himself\n",
    "df_test['FamilySize'] = df_test['SibSp'] + df_test['Parch'] + 1 # 1 for the passenger himself\n",
    "\n",
    "df_test.loc[df_test.Fare.isnull(), 'Fare'] = df_test['Fare'].mean()\n",
    "\n",
    "df_train['Fare'] = df_train['Fare'].map(lambda i: np.log(i) if i > 0 else 0)\n",
    "df_test['Fare'] = df_test['Fare'].map(lambda i: np.log(i) if i > 0 else 0)\n"
   ]
  },
  {
   "cell_type": "markdown",
   "metadata": {},
   "source": [
    "# 3. Feature engineering"
   ]
  },
  {
   "cell_type": "markdown",
   "metadata": {},
   "source": [
    "## 3.1 Fill Null"
   ]
  },
  {
   "cell_type": "markdown",
   "metadata": {},
   "source": [
    "### 3.1.1 Fill Null in Age using title"
   ]
  },
  {
   "cell_type": "code",
   "execution_count": 49,
   "metadata": {},
   "outputs": [],
   "source": [
    "df_train['Initial']= df_train.Name.str.extract('([A-Za-z]+)\\.') #lets extract the Salutations\n",
    "df_test['Initial']= df_test.Name.str.extract('([A-Za-z]+)\\.') #lets extract the Salutations"
   ]
  },
  {
   "cell_type": "code",
   "execution_count": 50,
   "metadata": {},
   "outputs": [
    {
     "data": {
      "text/html": [
       "<style type=\"text/css\">\n",
       "#T_86293_row0_col0, #T_86293_row0_col1, #T_86293_row0_col3, #T_86293_row0_col4, #T_86293_row0_col5, #T_86293_row0_col7, #T_86293_row0_col8, #T_86293_row0_col12, #T_86293_row0_col15, #T_86293_row0_col16, #T_86293_row1_col2, #T_86293_row1_col6, #T_86293_row1_col9, #T_86293_row1_col10, #T_86293_row1_col11, #T_86293_row1_col13, #T_86293_row1_col14 {\n",
       "  background-color: #ffff66;\n",
       "  color: #000000;\n",
       "}\n",
       "#T_86293_row0_col2, #T_86293_row0_col6, #T_86293_row0_col9, #T_86293_row0_col10, #T_86293_row0_col11, #T_86293_row0_col13, #T_86293_row0_col14, #T_86293_row1_col0, #T_86293_row1_col1, #T_86293_row1_col3, #T_86293_row1_col4, #T_86293_row1_col5, #T_86293_row1_col7, #T_86293_row1_col8, #T_86293_row1_col12, #T_86293_row1_col15, #T_86293_row1_col16 {\n",
       "  background-color: #008066;\n",
       "  color: #f1f1f1;\n",
       "}\n",
       "</style>\n",
       "<table id=\"T_86293\">\n",
       "  <thead>\n",
       "    <tr>\n",
       "      <th class=\"index_name level0\" >Initial</th>\n",
       "      <th id=\"T_86293_level0_col0\" class=\"col_heading level0 col0\" >Capt</th>\n",
       "      <th id=\"T_86293_level0_col1\" class=\"col_heading level0 col1\" >Col</th>\n",
       "      <th id=\"T_86293_level0_col2\" class=\"col_heading level0 col2\" >Countess</th>\n",
       "      <th id=\"T_86293_level0_col3\" class=\"col_heading level0 col3\" >Don</th>\n",
       "      <th id=\"T_86293_level0_col4\" class=\"col_heading level0 col4\" >Dr</th>\n",
       "      <th id=\"T_86293_level0_col5\" class=\"col_heading level0 col5\" >Jonkheer</th>\n",
       "      <th id=\"T_86293_level0_col6\" class=\"col_heading level0 col6\" >Lady</th>\n",
       "      <th id=\"T_86293_level0_col7\" class=\"col_heading level0 col7\" >Major</th>\n",
       "      <th id=\"T_86293_level0_col8\" class=\"col_heading level0 col8\" >Master</th>\n",
       "      <th id=\"T_86293_level0_col9\" class=\"col_heading level0 col9\" >Miss</th>\n",
       "      <th id=\"T_86293_level0_col10\" class=\"col_heading level0 col10\" >Mlle</th>\n",
       "      <th id=\"T_86293_level0_col11\" class=\"col_heading level0 col11\" >Mme</th>\n",
       "      <th id=\"T_86293_level0_col12\" class=\"col_heading level0 col12\" >Mr</th>\n",
       "      <th id=\"T_86293_level0_col13\" class=\"col_heading level0 col13\" >Mrs</th>\n",
       "      <th id=\"T_86293_level0_col14\" class=\"col_heading level0 col14\" >Ms</th>\n",
       "      <th id=\"T_86293_level0_col15\" class=\"col_heading level0 col15\" >Rev</th>\n",
       "      <th id=\"T_86293_level0_col16\" class=\"col_heading level0 col16\" >Sir</th>\n",
       "    </tr>\n",
       "    <tr>\n",
       "      <th class=\"index_name level0\" >Sex</th>\n",
       "      <th class=\"blank col0\" >&nbsp;</th>\n",
       "      <th class=\"blank col1\" >&nbsp;</th>\n",
       "      <th class=\"blank col2\" >&nbsp;</th>\n",
       "      <th class=\"blank col3\" >&nbsp;</th>\n",
       "      <th class=\"blank col4\" >&nbsp;</th>\n",
       "      <th class=\"blank col5\" >&nbsp;</th>\n",
       "      <th class=\"blank col6\" >&nbsp;</th>\n",
       "      <th class=\"blank col7\" >&nbsp;</th>\n",
       "      <th class=\"blank col8\" >&nbsp;</th>\n",
       "      <th class=\"blank col9\" >&nbsp;</th>\n",
       "      <th class=\"blank col10\" >&nbsp;</th>\n",
       "      <th class=\"blank col11\" >&nbsp;</th>\n",
       "      <th class=\"blank col12\" >&nbsp;</th>\n",
       "      <th class=\"blank col13\" >&nbsp;</th>\n",
       "      <th class=\"blank col14\" >&nbsp;</th>\n",
       "      <th class=\"blank col15\" >&nbsp;</th>\n",
       "      <th class=\"blank col16\" >&nbsp;</th>\n",
       "    </tr>\n",
       "  </thead>\n",
       "  <tbody>\n",
       "    <tr>\n",
       "      <th id=\"T_86293_level0_row0\" class=\"row_heading level0 row0\" >female</th>\n",
       "      <td id=\"T_86293_row0_col0\" class=\"data row0 col0\" >0</td>\n",
       "      <td id=\"T_86293_row0_col1\" class=\"data row0 col1\" >0</td>\n",
       "      <td id=\"T_86293_row0_col2\" class=\"data row0 col2\" >1</td>\n",
       "      <td id=\"T_86293_row0_col3\" class=\"data row0 col3\" >0</td>\n",
       "      <td id=\"T_86293_row0_col4\" class=\"data row0 col4\" >1</td>\n",
       "      <td id=\"T_86293_row0_col5\" class=\"data row0 col5\" >0</td>\n",
       "      <td id=\"T_86293_row0_col6\" class=\"data row0 col6\" >1</td>\n",
       "      <td id=\"T_86293_row0_col7\" class=\"data row0 col7\" >0</td>\n",
       "      <td id=\"T_86293_row0_col8\" class=\"data row0 col8\" >0</td>\n",
       "      <td id=\"T_86293_row0_col9\" class=\"data row0 col9\" >182</td>\n",
       "      <td id=\"T_86293_row0_col10\" class=\"data row0 col10\" >2</td>\n",
       "      <td id=\"T_86293_row0_col11\" class=\"data row0 col11\" >1</td>\n",
       "      <td id=\"T_86293_row0_col12\" class=\"data row0 col12\" >0</td>\n",
       "      <td id=\"T_86293_row0_col13\" class=\"data row0 col13\" >125</td>\n",
       "      <td id=\"T_86293_row0_col14\" class=\"data row0 col14\" >1</td>\n",
       "      <td id=\"T_86293_row0_col15\" class=\"data row0 col15\" >0</td>\n",
       "      <td id=\"T_86293_row0_col16\" class=\"data row0 col16\" >0</td>\n",
       "    </tr>\n",
       "    <tr>\n",
       "      <th id=\"T_86293_level0_row1\" class=\"row_heading level0 row1\" >male</th>\n",
       "      <td id=\"T_86293_row1_col0\" class=\"data row1 col0\" >1</td>\n",
       "      <td id=\"T_86293_row1_col1\" class=\"data row1 col1\" >2</td>\n",
       "      <td id=\"T_86293_row1_col2\" class=\"data row1 col2\" >0</td>\n",
       "      <td id=\"T_86293_row1_col3\" class=\"data row1 col3\" >1</td>\n",
       "      <td id=\"T_86293_row1_col4\" class=\"data row1 col4\" >6</td>\n",
       "      <td id=\"T_86293_row1_col5\" class=\"data row1 col5\" >1</td>\n",
       "      <td id=\"T_86293_row1_col6\" class=\"data row1 col6\" >0</td>\n",
       "      <td id=\"T_86293_row1_col7\" class=\"data row1 col7\" >2</td>\n",
       "      <td id=\"T_86293_row1_col8\" class=\"data row1 col8\" >40</td>\n",
       "      <td id=\"T_86293_row1_col9\" class=\"data row1 col9\" >0</td>\n",
       "      <td id=\"T_86293_row1_col10\" class=\"data row1 col10\" >0</td>\n",
       "      <td id=\"T_86293_row1_col11\" class=\"data row1 col11\" >0</td>\n",
       "      <td id=\"T_86293_row1_col12\" class=\"data row1 col12\" >517</td>\n",
       "      <td id=\"T_86293_row1_col13\" class=\"data row1 col13\" >0</td>\n",
       "      <td id=\"T_86293_row1_col14\" class=\"data row1 col14\" >0</td>\n",
       "      <td id=\"T_86293_row1_col15\" class=\"data row1 col15\" >6</td>\n",
       "      <td id=\"T_86293_row1_col16\" class=\"data row1 col16\" >1</td>\n",
       "    </tr>\n",
       "  </tbody>\n",
       "</table>\n"
      ],
      "text/plain": [
       "<pandas.io.formats.style.Styler at 0x1e9c71786a0>"
      ]
     },
     "execution_count": 50,
     "metadata": {},
     "output_type": "execute_result"
    }
   ],
   "source": [
    "pd.crosstab(df_train['Initial'], df_train['Sex']).T.style.background_gradient(cmap='summer_r') #Checking the Initials with the Sex"
   ]
  },
  {
   "cell_type": "code",
   "execution_count": 51,
   "metadata": {},
   "outputs": [],
   "source": [
    "df_train['Initial'].replace(['Mlle','Mme','Ms','Dr','Major','Lady','Countess','Jonkheer','Col','Rev','Capt','Sir','Don', 'Dona'],\n",
    "                        ['Miss','Miss','Miss','Mr','Mr','Mrs','Mrs','Other','Other','Other','Mr','Mr','Mr', 'Mr'],inplace=True)\n",
    "\n",
    "df_test['Initial'].replace(['Mlle','Mme','Ms','Dr','Major','Lady','Countess','Jonkheer','Col','Rev','Capt','Sir','Don', 'Dona'],\n",
    "                        ['Miss','Miss','Miss','Mr','Mr','Mrs','Mrs','Other','Other','Other','Mr','Mr','Mr', 'Mr'],inplace=True)"
   ]
  },
  {
   "cell_type": "code",
   "execution_count": 52,
   "metadata": {},
   "outputs": [
    {
     "data": {
      "text/html": [
       "<div>\n",
       "<style scoped>\n",
       "    .dataframe tbody tr th:only-of-type {\n",
       "        vertical-align: middle;\n",
       "    }\n",
       "\n",
       "    .dataframe tbody tr th {\n",
       "        vertical-align: top;\n",
       "    }\n",
       "\n",
       "    .dataframe thead th {\n",
       "        text-align: right;\n",
       "    }\n",
       "</style>\n",
       "<table border=\"1\" class=\"dataframe\">\n",
       "  <thead>\n",
       "    <tr style=\"text-align: right;\">\n",
       "      <th></th>\n",
       "      <th>PassengerId</th>\n",
       "      <th>Survived</th>\n",
       "      <th>Pclass</th>\n",
       "      <th>Age</th>\n",
       "      <th>SibSp</th>\n",
       "      <th>Parch</th>\n",
       "      <th>Fare</th>\n",
       "      <th>FamilySize</th>\n",
       "    </tr>\n",
       "    <tr>\n",
       "      <th>Initial</th>\n",
       "      <th></th>\n",
       "      <th></th>\n",
       "      <th></th>\n",
       "      <th></th>\n",
       "      <th></th>\n",
       "      <th></th>\n",
       "      <th></th>\n",
       "      <th></th>\n",
       "    </tr>\n",
       "  </thead>\n",
       "  <tbody>\n",
       "    <tr>\n",
       "      <th>Master</th>\n",
       "      <td>414.975000</td>\n",
       "      <td>0.575000</td>\n",
       "      <td>2.625000</td>\n",
       "      <td>4.574167</td>\n",
       "      <td>2.300000</td>\n",
       "      <td>1.375000</td>\n",
       "      <td>3.340710</td>\n",
       "      <td>4.675000</td>\n",
       "    </tr>\n",
       "    <tr>\n",
       "      <th>Miss</th>\n",
       "      <td>411.741935</td>\n",
       "      <td>0.704301</td>\n",
       "      <td>2.284946</td>\n",
       "      <td>21.860000</td>\n",
       "      <td>0.698925</td>\n",
       "      <td>0.537634</td>\n",
       "      <td>3.123713</td>\n",
       "      <td>2.236559</td>\n",
       "    </tr>\n",
       "    <tr>\n",
       "      <th>Mr</th>\n",
       "      <td>455.880907</td>\n",
       "      <td>0.162571</td>\n",
       "      <td>2.381853</td>\n",
       "      <td>32.739609</td>\n",
       "      <td>0.293006</td>\n",
       "      <td>0.151229</td>\n",
       "      <td>2.651507</td>\n",
       "      <td>1.444234</td>\n",
       "    </tr>\n",
       "    <tr>\n",
       "      <th>Mrs</th>\n",
       "      <td>456.393701</td>\n",
       "      <td>0.795276</td>\n",
       "      <td>1.984252</td>\n",
       "      <td>35.981818</td>\n",
       "      <td>0.692913</td>\n",
       "      <td>0.818898</td>\n",
       "      <td>3.443751</td>\n",
       "      <td>2.511811</td>\n",
       "    </tr>\n",
       "    <tr>\n",
       "      <th>Other</th>\n",
       "      <td>564.444444</td>\n",
       "      <td>0.111111</td>\n",
       "      <td>1.666667</td>\n",
       "      <td>45.888889</td>\n",
       "      <td>0.111111</td>\n",
       "      <td>0.111111</td>\n",
       "      <td>2.641605</td>\n",
       "      <td>1.222222</td>\n",
       "    </tr>\n",
       "  </tbody>\n",
       "</table>\n",
       "</div>"
      ],
      "text/plain": [
       "         PassengerId  Survived    Pclass        Age     SibSp     Parch  \\\n",
       "Initial                                                                   \n",
       "Master    414.975000  0.575000  2.625000   4.574167  2.300000  1.375000   \n",
       "Miss      411.741935  0.704301  2.284946  21.860000  0.698925  0.537634   \n",
       "Mr        455.880907  0.162571  2.381853  32.739609  0.293006  0.151229   \n",
       "Mrs       456.393701  0.795276  1.984252  35.981818  0.692913  0.818898   \n",
       "Other     564.444444  0.111111  1.666667  45.888889  0.111111  0.111111   \n",
       "\n",
       "             Fare  FamilySize  \n",
       "Initial                        \n",
       "Master   3.340710    4.675000  \n",
       "Miss     3.123713    2.236559  \n",
       "Mr       2.651507    1.444234  \n",
       "Mrs      3.443751    2.511811  \n",
       "Other    2.641605    1.222222  "
      ]
     },
     "execution_count": 52,
     "metadata": {},
     "output_type": "execute_result"
    }
   ],
   "source": [
    "df_train.groupby('Initial').mean()"
   ]
  },
  {
   "cell_type": "code",
   "execution_count": 53,
   "metadata": {},
   "outputs": [
    {
     "data": {
      "text/plain": [
       "<AxesSubplot:xlabel='Initial'>"
      ]
     },
     "execution_count": 53,
     "metadata": {},
     "output_type": "execute_result"
    },
    {
     "data": {
      "image/png": "[encoded data removed]",
      "text/plain": [
       "<Figure size 432x288 with 1 Axes>"
      ]
     },
     "metadata": {
      "needs_background": "light"
     },
     "output_type": "display_data"
    }
   ],
   "source": [
    "df_train.groupby('Initial')['Survived'].mean().plot.bar()"
   ]
  },
  {
   "cell_type": "code",
   "execution_count": 54,
   "metadata": {},
   "outputs": [
    {
     "data": {
      "text/html": [
       "<div>\n",
       "<style scoped>\n",
       "    .dataframe tbody tr th:only-of-type {\n",
       "        vertical-align: middle;\n",
       "    }\n",
       "\n",
       "    .dataframe tbody tr th {\n",
       "        vertical-align: top;\n",
       "    }\n",
       "\n",
       "    .dataframe thead th {\n",
       "        text-align: right;\n",
       "    }\n",
       "</style>\n",
       "<table border=\"1\" class=\"dataframe\">\n",
       "  <thead>\n",
       "    <tr style=\"text-align: right;\">\n",
       "      <th></th>\n",
       "      <th>PassengerId</th>\n",
       "      <th>Survived</th>\n",
       "      <th>Pclass</th>\n",
       "      <th>Age</th>\n",
       "      <th>SibSp</th>\n",
       "      <th>Parch</th>\n",
       "      <th>Fare</th>\n",
       "      <th>FamilySize</th>\n",
       "    </tr>\n",
       "    <tr>\n",
       "      <th>Initial</th>\n",
       "      <th></th>\n",
       "      <th></th>\n",
       "      <th></th>\n",
       "      <th></th>\n",
       "      <th></th>\n",
       "      <th></th>\n",
       "      <th></th>\n",
       "      <th></th>\n",
       "    </tr>\n",
       "  </thead>\n",
       "  <tbody>\n",
       "    <tr>\n",
       "      <th>Master</th>\n",
       "      <td>414.975000</td>\n",
       "      <td>0.575000</td>\n",
       "      <td>2.625000</td>\n",
       "      <td>4.574167</td>\n",
       "      <td>2.300000</td>\n",
       "      <td>1.375000</td>\n",
       "      <td>3.340710</td>\n",
       "      <td>4.675000</td>\n",
       "    </tr>\n",
       "    <tr>\n",
       "      <th>Miss</th>\n",
       "      <td>411.741935</td>\n",
       "      <td>0.704301</td>\n",
       "      <td>2.284946</td>\n",
       "      <td>21.860000</td>\n",
       "      <td>0.698925</td>\n",
       "      <td>0.537634</td>\n",
       "      <td>3.123713</td>\n",
       "      <td>2.236559</td>\n",
       "    </tr>\n",
       "    <tr>\n",
       "      <th>Mr</th>\n",
       "      <td>455.880907</td>\n",
       "      <td>0.162571</td>\n",
       "      <td>2.381853</td>\n",
       "      <td>32.739609</td>\n",
       "      <td>0.293006</td>\n",
       "      <td>0.151229</td>\n",
       "      <td>2.651507</td>\n",
       "      <td>1.444234</td>\n",
       "    </tr>\n",
       "    <tr>\n",
       "      <th>Mrs</th>\n",
       "      <td>456.393701</td>\n",
       "      <td>0.795276</td>\n",
       "      <td>1.984252</td>\n",
       "      <td>35.981818</td>\n",
       "      <td>0.692913</td>\n",
       "      <td>0.818898</td>\n",
       "      <td>3.443751</td>\n",
       "      <td>2.511811</td>\n",
       "    </tr>\n",
       "    <tr>\n",
       "      <th>Other</th>\n",
       "      <td>564.444444</td>\n",
       "      <td>0.111111</td>\n",
       "      <td>1.666667</td>\n",
       "      <td>45.888889</td>\n",
       "      <td>0.111111</td>\n",
       "      <td>0.111111</td>\n",
       "      <td>2.641605</td>\n",
       "      <td>1.222222</td>\n",
       "    </tr>\n",
       "  </tbody>\n",
       "</table>\n",
       "</div>"
      ],
      "text/plain": [
       "         PassengerId  Survived    Pclass        Age     SibSp     Parch  \\\n",
       "Initial                                                                   \n",
       "Master    414.975000  0.575000  2.625000   4.574167  2.300000  1.375000   \n",
       "Miss      411.741935  0.704301  2.284946  21.860000  0.698925  0.537634   \n",
       "Mr        455.880907  0.162571  2.381853  32.739609  0.293006  0.151229   \n",
       "Mrs       456.393701  0.795276  1.984252  35.981818  0.692913  0.818898   \n",
       "Other     564.444444  0.111111  1.666667  45.888889  0.111111  0.111111   \n",
       "\n",
       "             Fare  FamilySize  \n",
       "Initial                        \n",
       "Master   3.340710    4.675000  \n",
       "Miss     3.123713    2.236559  \n",
       "Mr       2.651507    1.444234  \n",
       "Mrs      3.443751    2.511811  \n",
       "Other    2.641605    1.222222  "
      ]
     },
     "execution_count": 54,
     "metadata": {},
     "output_type": "execute_result"
    }
   ],
   "source": [
    "df_train.groupby('Initial').mean()"
   ]
  },
  {
   "cell_type": "code",
   "execution_count": 55,
   "metadata": {},
   "outputs": [],
   "source": [
    "df_train.loc[(df_train.Age.isnull())&(df_train.Initial=='Mr'),'Age'] = 33\n",
    "df_train.loc[(df_train.Age.isnull())&(df_train.Initial=='Mrs'),'Age'] = 36\n",
    "df_train.loc[(df_train.Age.isnull())&(df_train.Initial=='Master'),'Age'] = 5\n",
    "df_train.loc[(df_train.Age.isnull())&(df_train.Initial=='Miss'),'Age'] = 22\n",
    "df_train.loc[(df_train.Age.isnull())&(df_train.Initial=='Other'),'Age'] = 46\n",
    "\n",
    "df_test.loc[(df_test.Age.isnull())&(df_test.Initial=='Mr'),'Age'] = 33\n",
    "df_test.loc[(df_test.Age.isnull())&(df_test.Initial=='Mrs'),'Age'] = 36\n",
    "df_test.loc[(df_test.Age.isnull())&(df_test.Initial=='Master'),'Age'] = 5\n",
    "df_test.loc[(df_test.Age.isnull())&(df_test.Initial=='Miss'),'Age'] = 22\n",
    "df_test.loc[(df_test.Age.isnull())&(df_test.Initial=='Other'),'Age'] = 46"
   ]
  },
  {
   "cell_type": "markdown",
   "metadata": {},
   "source": [
    "### 3.1.2 Fill Null in Embarked"
   ]
  },
  {
   "cell_type": "code",
   "execution_count": 56,
   "metadata": {},
   "outputs": [
    {
     "name": "stdout",
     "output_type": "stream",
     "text": [
      "Embarked has f2 Null values\n"
     ]
    }
   ],
   "source": [
    "print(f'Embarked has f{sum(df_train[\"Embarked\"].isnull())} Null values')"
   ]
  },
  {
   "cell_type": "code",
   "execution_count": 57,
   "metadata": {},
   "outputs": [],
   "source": [
    "df_train['Embarked'].fillna('S', inplace=True)"
   ]
  },
  {
   "cell_type": "markdown",
   "metadata": {},
   "source": [
    "## 3.2 Change Age(Continuous to categorical)"
   ]
  },
  {
   "cell_type": "code",
   "execution_count": 58,
   "metadata": {},
   "outputs": [],
   "source": [
    "df_train['Age_cat'] = 0\n",
    "df_train.loc[df_train['Age'] < 10, 'Age_cat'] = 0\n",
    "df_train.loc[(10 <= df_train['Age']) & (df_train['Age'] < 20), 'Age_cat'] = 1\n",
    "df_train.loc[(20 <= df_train['Age']) & (df_train['Age'] < 30), 'Age_cat'] = 2\n",
    "df_train.loc[(30 <= df_train['Age']) & (df_train['Age'] < 40), 'Age_cat'] = 3\n",
    "df_train.loc[(40 <= df_train['Age']) & (df_train['Age'] < 50), 'Age_cat'] = 4\n",
    "df_train.loc[(50 <= df_train['Age']) & (df_train['Age'] < 60), 'Age_cat'] = 5\n",
    "df_train.loc[(60 <= df_train['Age']) & (df_train['Age'] < 70), 'Age_cat'] = 6\n",
    "df_train.loc[70 <= df_train['Age'], 'Age_cat'] = 7\n",
    "\n",
    "df_test['Age_cat'] = 0\n",
    "df_test.loc[df_test['Age'] < 10, 'Age_cat'] = 0\n",
    "df_test.loc[(10 <= df_test['Age']) & (df_test['Age'] < 20), 'Age_cat'] = 1\n",
    "df_test.loc[(20 <= df_test['Age']) & (df_test['Age'] < 30), 'Age_cat'] = 2\n",
    "df_test.loc[(30 <= df_test['Age']) & (df_test['Age'] < 40), 'Age_cat'] = 3\n",
    "df_test.loc[(40 <= df_test['Age']) & (df_test['Age'] < 50), 'Age_cat'] = 4\n",
    "df_test.loc[(50 <= df_test['Age']) & (df_test['Age'] < 60), 'Age_cat'] = 5\n",
    "df_test.loc[(60 <= df_test['Age']) & (df_test['Age'] < 70), 'Age_cat'] = 6\n",
    "df_test.loc[70 <= df_test['Age'], 'Age_cat'] = 7"
   ]
  },
  {
   "cell_type": "code",
   "execution_count": 59,
   "metadata": {},
   "outputs": [],
   "source": [
    "def category_age(x):\n",
    "    if x < 10:\n",
    "        return 0\n",
    "    elif x < 20:\n",
    "        return 1\n",
    "    elif x < 30:\n",
    "        return 2\n",
    "    elif x < 40:\n",
    "        return 3\n",
    "    elif x < 50:\n",
    "        return 4\n",
    "    elif x < 60:\n",
    "        return 5\n",
    "    elif x < 70:\n",
    "        return 6\n",
    "    else:\n",
    "        return 7    \n",
    "    \n",
    "df_train['Age_cat_2'] = df_train['Age'].apply(category_age)"
   ]
  },
  {
   "cell_type": "code",
   "execution_count": 60,
   "metadata": {},
   "outputs": [
    {
     "name": "stdout",
     "output_type": "stream",
     "text": [
      "Are 1st method and 2nd method the same? True\n"
     ]
    }
   ],
   "source": [
    "print('Are 1st method and 2nd method the same?', (df_train['Age_cat'] == df_train['Age_cat_2']).all())"
   ]
  },
  {
   "cell_type": "code",
   "execution_count": 61,
   "metadata": {},
   "outputs": [],
   "source": [
    "df_train.drop(['Age', 'Age_cat_2'], axis=1, inplace=True)\n",
    "df_test.drop(['Age'], axis=1, inplace=True)"
   ]
  },
  {
   "cell_type": "markdown",
   "metadata": {},
   "source": [
    "## 3.3 Change Initial, Embarked and Sex(String to Numerical)"
   ]
  },
  {
   "cell_type": "code",
   "execution_count": 62,
   "metadata": {},
   "outputs": [],
   "source": [
    "df_train['Initial'] = df_train['Initial'].map({'Master': 0, 'Miss': 1, 'Mr': 2, 'Mrs': 3, 'Other': 4})\n",
    "df_test['Initial'] = df_test['Initial'].map({'Master': 0, 'Miss': 1, 'Mr': 2, 'Mrs': 3, 'Other': 4})"
   ]
  },
  {
   "cell_type": "code",
   "execution_count": 63,
   "metadata": {},
   "outputs": [
    {
     "data": {
      "text/plain": [
       "array(['S', 'C', 'Q'], dtype=object)"
      ]
     },
     "execution_count": 63,
     "metadata": {},
     "output_type": "execute_result"
    }
   ],
   "source": [
    "df_train['Embarked'].unique()"
   ]
  },
  {
   "cell_type": "code",
   "execution_count": 64,
   "metadata": {},
   "outputs": [
    {
     "data": {
      "text/plain": [
       "S    646\n",
       "C    168\n",
       "Q     77\n",
       "Name: Embarked, dtype: int64"
      ]
     },
     "execution_count": 64,
     "metadata": {},
     "output_type": "execute_result"
    }
   ],
   "source": [
    "df_train['Embarked'].value_counts()"
   ]
  },
  {
   "cell_type": "code",
   "execution_count": 65,
   "metadata": {},
   "outputs": [],
   "source": [
    "df_train['Embarked'] = df_train['Embarked'].map({'C': 0, 'Q': 1, 'S': 2})\n",
    "df_test['Embarked'] = df_test['Embarked'].map({'C': 0, 'Q': 1, 'S': 2})"
   ]
  },
  {
   "cell_type": "code",
   "execution_count": 66,
   "metadata": {},
   "outputs": [
    {
     "data": {
      "text/plain": [
       "False"
      ]
     },
     "execution_count": 66,
     "metadata": {},
     "output_type": "execute_result"
    }
   ],
   "source": [
    "df_train['Embarked'].isnull().any()"
   ]
  },
  {
   "cell_type": "code",
   "execution_count": 67,
   "metadata": {},
   "outputs": [],
   "source": [
    "df_train['Sex'] = df_train['Sex'].map({'female': 0, 'male': 1})\n",
    "df_test['Sex'] = df_test['Sex'].map({'female': 0, 'male': 1})"
   ]
  },
  {
   "cell_type": "code",
   "execution_count": 68,
   "metadata": {},
   "outputs": [
    {
     "data": {
      "image/png": "[encoded data removed]",
      "text/plain": [
       "<Figure size 1008x864 with 2 Axes>"
      ]
     },
     "metadata": {
      "needs_background": "light"
     },
     "output_type": "display_data"
    }
   ],
   "source": [
    "heatmap_data = df_train[['Survived', 'Pclass', 'Sex', 'Fare', 'Embarked', 'FamilySize', 'Initial', 'Age_cat']] \n",
    "\n",
    "colormap = plt.cm.RdBu\n",
    "plt.figure(figsize=(14, 12))\n",
    "plt.title('Pearson Correlation of Features', y=1.05, size=15)\n",
    "sns.heatmap(heatmap_data.astype(float).corr(), linewidths=0.1, vmax=1.0,\n",
    "           square=True, cmap=colormap, linecolor='white', annot=True, annot_kws={\"size\": 16})\n",
    "\n",
    "del heatmap_data"
   ]
  },
  {
   "cell_type": "markdown",
   "metadata": {},
   "source": [
    "## 3.4 One-hot encoding on Initial and Embarked"
   ]
  },
  {
   "cell_type": "code",
   "execution_count": 69,
   "metadata": {},
   "outputs": [],
   "source": [
    "df_train = pd.get_dummies(df_train, columns=['Initial'], prefix='Initial')\n",
    "df_test = pd.get_dummies(df_test, columns=['Initial'], prefix='Initial')"
   ]
  },
  {
   "cell_type": "code",
   "execution_count": 70,
   "metadata": {},
   "outputs": [
    {
     "data": {
      "text/html": [
       "<div>\n",
       "<style scoped>\n",
       "    .dataframe tbody tr th:only-of-type {\n",
       "        vertical-align: middle;\n",
       "    }\n",
       "\n",
       "    .dataframe tbody tr th {\n",
       "        vertical-align: top;\n",
       "    }\n",
       "\n",
       "    .dataframe thead th {\n",
       "        text-align: right;\n",
       "    }\n",
       "</style>\n",
       "<table border=\"1\" class=\"dataframe\">\n",
       "  <thead>\n",
       "    <tr style=\"text-align: right;\">\n",
       "      <th></th>\n",
       "      <th>PassengerId</th>\n",
       "      <th>Survived</th>\n",
       "      <th>Pclass</th>\n",
       "      <th>Name</th>\n",
       "      <th>Sex</th>\n",
       "      <th>SibSp</th>\n",
       "      <th>Parch</th>\n",
       "      <th>Ticket</th>\n",
       "      <th>Fare</th>\n",
       "      <th>Cabin</th>\n",
       "      <th>Embarked</th>\n",
       "      <th>FamilySize</th>\n",
       "      <th>Age_cat</th>\n",
       "      <th>Initial_0</th>\n",
       "      <th>Initial_1</th>\n",
       "      <th>Initial_2</th>\n",
       "      <th>Initial_3</th>\n",
       "      <th>Initial_4</th>\n",
       "    </tr>\n",
       "  </thead>\n",
       "  <tbody>\n",
       "    <tr>\n",
       "      <th>0</th>\n",
       "      <td>1</td>\n",
       "      <td>0</td>\n",
       "      <td>3</td>\n",
       "      <td>Braund, Mr. Owen Harris</td>\n",
       "      <td>1</td>\n",
       "      <td>1</td>\n",
       "      <td>0</td>\n",
       "      <td>A/5 21171</td>\n",
       "      <td>1.981001</td>\n",
       "      <td>NaN</td>\n",
       "      <td>2</td>\n",
       "      <td>2</td>\n",
       "      <td>2</td>\n",
       "      <td>0</td>\n",
       "      <td>0</td>\n",
       "      <td>1</td>\n",
       "      <td>0</td>\n",
       "      <td>0</td>\n",
       "    </tr>\n",
       "    <tr>\n",
       "      <th>1</th>\n",
       "      <td>2</td>\n",
       "      <td>1</td>\n",
       "      <td>1</td>\n",
       "      <td>Cumings, Mrs. John Bradley (Florence Briggs Th...</td>\n",
       "      <td>0</td>\n",
       "      <td>1</td>\n",
       "      <td>0</td>\n",
       "      <td>PC 17599</td>\n",
       "      <td>4.266662</td>\n",
       "      <td>C85</td>\n",
       "      <td>0</td>\n",
       "      <td>2</td>\n",
       "      <td>3</td>\n",
       "      <td>0</td>\n",
       "      <td>0</td>\n",
       "      <td>0</td>\n",
       "      <td>1</td>\n",
       "      <td>0</td>\n",
       "    </tr>\n",
       "    <tr>\n",
       "      <th>2</th>\n",
       "      <td>3</td>\n",
       "      <td>1</td>\n",
       "      <td>3</td>\n",
       "      <td>Heikkinen, Miss. Laina</td>\n",
       "      <td>0</td>\n",
       "      <td>0</td>\n",
       "      <td>0</td>\n",
       "      <td>STON/O2. 3101282</td>\n",
       "      <td>2.070022</td>\n",
       "      <td>NaN</td>\n",
       "      <td>2</td>\n",
       "      <td>1</td>\n",
       "      <td>2</td>\n",
       "      <td>0</td>\n",
       "      <td>1</td>\n",
       "      <td>0</td>\n",
       "      <td>0</td>\n",
       "      <td>0</td>\n",
       "    </tr>\n",
       "    <tr>\n",
       "      <th>3</th>\n",
       "      <td>4</td>\n",
       "      <td>1</td>\n",
       "      <td>1</td>\n",
       "      <td>Futrelle, Mrs. Jacques Heath (Lily May Peel)</td>\n",
       "      <td>0</td>\n",
       "      <td>1</td>\n",
       "      <td>0</td>\n",
       "      <td>113803</td>\n",
       "      <td>3.972177</td>\n",
       "      <td>C123</td>\n",
       "      <td>2</td>\n",
       "      <td>2</td>\n",
       "      <td>3</td>\n",
       "      <td>0</td>\n",
       "      <td>0</td>\n",
       "      <td>0</td>\n",
       "      <td>1</td>\n",
       "      <td>0</td>\n",
       "    </tr>\n",
       "    <tr>\n",
       "      <th>4</th>\n",
       "      <td>5</td>\n",
       "      <td>0</td>\n",
       "      <td>3</td>\n",
       "      <td>Allen, Mr. William Henry</td>\n",
       "      <td>1</td>\n",
       "      <td>0</td>\n",
       "      <td>0</td>\n",
       "      <td>373450</td>\n",
       "      <td>2.085672</td>\n",
       "      <td>NaN</td>\n",
       "      <td>2</td>\n",
       "      <td>1</td>\n",
       "      <td>3</td>\n",
       "      <td>0</td>\n",
       "      <td>0</td>\n",
       "      <td>1</td>\n",
       "      <td>0</td>\n",
       "      <td>0</td>\n",
       "    </tr>\n",
       "  </tbody>\n",
       "</table>\n",
       "</div>"
      ],
      "text/plain": [
       "   PassengerId  Survived  Pclass  \\\n",
       "0            1         0       3   \n",
       "1            2         1       1   \n",
       "2            3         1       3   \n",
       "3            4         1       1   \n",
       "4            5         0       3   \n",
       "\n",
       "                                                Name  Sex  SibSp  Parch  \\\n",
       "0                            Braund, Mr. Owen Harris    1      1      0   \n",
       "1  Cumings, Mrs. John Bradley (Florence Briggs Th...    0      1      0   \n",
       "2                             Heikkinen, Miss. Laina    0      0      0   \n",
       "3       Futrelle, Mrs. Jacques Heath (Lily May Peel)    0      1      0   \n",
       "4                           Allen, Mr. William Henry    1      0      0   \n",
       "\n",
       "             Ticket      Fare Cabin  Embarked  FamilySize  Age_cat  Initial_0  \\\n",
       "0         A/5 21171  1.981001   NaN         2           2        2          0   \n",
       "1          PC 17599  4.266662   C85         0           2        3          0   \n",
       "2  STON/O2. 3101282  2.070022   NaN         2           1        2          0   \n",
       "3            113803  3.972177  C123         2           2        3          0   \n",
       "4            373450  2.085672   NaN         2           1        3          0   \n",
       "\n",
       "   Initial_1  Initial_2  Initial_3  Initial_4  \n",
       "0          0          1          0          0  \n",
       "1          0          0          1          0  \n",
       "2          1          0          0          0  \n",
       "3          0          0          1          0  \n",
       "4          0          1          0          0  "
      ]
     },
     "execution_count": 70,
     "metadata": {},
     "output_type": "execute_result"
    }
   ],
   "source": [
    "df_train.head()"
   ]
  },
  {
   "cell_type": "code",
   "execution_count": 71,
   "metadata": {},
   "outputs": [],
   "source": [
    "df_train = pd.get_dummies(df_train, columns=['Embarked'], prefix='Embarked')\n",
    "df_test = pd.get_dummies(df_test, columns=['Embarked'], prefix='Embarked')"
   ]
  },
  {
   "cell_type": "markdown",
   "metadata": {},
   "source": [
    "## 3.5 Drop columns"
   ]
  },
  {
   "cell_type": "code",
   "execution_count": 72,
   "metadata": {},
   "outputs": [],
   "source": [
    "df_train.drop(['PassengerId', 'Name', 'SibSp', 'Parch', 'Ticket', 'Cabin'], axis=1, inplace=True)\n",
    "df_test.drop(['PassengerId', 'Name',  'SibSp', 'Parch', 'Ticket', 'Cabin'], axis=1, inplace=True)"
   ]
  },
  {
   "cell_type": "code",
   "execution_count": 73,
   "metadata": {},
   "outputs": [
    {
     "data": {
      "text/html": [
       "<div>\n",
       "<style scoped>\n",
       "    .dataframe tbody tr th:only-of-type {\n",
       "        vertical-align: middle;\n",
       "    }\n",
       "\n",
       "    .dataframe tbody tr th {\n",
       "        vertical-align: top;\n",
       "    }\n",
       "\n",
       "    .dataframe thead th {\n",
       "        text-align: right;\n",
       "    }\n",
       "</style>\n",
       "<table border=\"1\" class=\"dataframe\">\n",
       "  <thead>\n",
       "    <tr style=\"text-align: right;\">\n",
       "      <th></th>\n",
       "      <th>Survived</th>\n",
       "      <th>Pclass</th>\n",
       "      <th>Sex</th>\n",
       "      <th>Fare</th>\n",
       "      <th>FamilySize</th>\n",
       "      <th>Age_cat</th>\n",
       "      <th>Initial_0</th>\n",
       "      <th>Initial_1</th>\n",
       "      <th>Initial_2</th>\n",
       "      <th>Initial_3</th>\n",
       "      <th>Initial_4</th>\n",
       "      <th>Embarked_0</th>\n",
       "      <th>Embarked_1</th>\n",
       "      <th>Embarked_2</th>\n",
       "    </tr>\n",
       "  </thead>\n",
       "  <tbody>\n",
       "    <tr>\n",
       "      <th>0</th>\n",
       "      <td>0</td>\n",
       "      <td>3</td>\n",
       "      <td>1</td>\n",
       "      <td>1.981001</td>\n",
       "      <td>2</td>\n",
       "      <td>2</td>\n",
       "      <td>0</td>\n",
       "      <td>0</td>\n",
       "      <td>1</td>\n",
       "      <td>0</td>\n",
       "      <td>0</td>\n",
       "      <td>0</td>\n",
       "      <td>0</td>\n",
       "      <td>1</td>\n",
       "    </tr>\n",
       "    <tr>\n",
       "      <th>1</th>\n",
       "      <td>1</td>\n",
       "      <td>1</td>\n",
       "      <td>0</td>\n",
       "      <td>4.266662</td>\n",
       "      <td>2</td>\n",
       "      <td>3</td>\n",
       "      <td>0</td>\n",
       "      <td>0</td>\n",
       "      <td>0</td>\n",
       "      <td>1</td>\n",
       "      <td>0</td>\n",
       "      <td>1</td>\n",
       "      <td>0</td>\n",
       "      <td>0</td>\n",
       "    </tr>\n",
       "    <tr>\n",
       "      <th>2</th>\n",
       "      <td>1</td>\n",
       "      <td>3</td>\n",
       "      <td>0</td>\n",
       "      <td>2.070022</td>\n",
       "      <td>1</td>\n",
       "      <td>2</td>\n",
       "      <td>0</td>\n",
       "      <td>1</td>\n",
       "      <td>0</td>\n",
       "      <td>0</td>\n",
       "      <td>0</td>\n",
       "      <td>0</td>\n",
       "      <td>0</td>\n",
       "      <td>1</td>\n",
       "    </tr>\n",
       "    <tr>\n",
       "      <th>3</th>\n",
       "      <td>1</td>\n",
       "      <td>1</td>\n",
       "      <td>0</td>\n",
       "      <td>3.972177</td>\n",
       "      <td>2</td>\n",
       "      <td>3</td>\n",
       "      <td>0</td>\n",
       "      <td>0</td>\n",
       "      <td>0</td>\n",
       "      <td>1</td>\n",
       "      <td>0</td>\n",
       "      <td>0</td>\n",
       "      <td>0</td>\n",
       "      <td>1</td>\n",
       "    </tr>\n",
       "    <tr>\n",
       "      <th>4</th>\n",
       "      <td>0</td>\n",
       "      <td>3</td>\n",
       "      <td>1</td>\n",
       "      <td>2.085672</td>\n",
       "      <td>1</td>\n",
       "      <td>3</td>\n",
       "      <td>0</td>\n",
       "      <td>0</td>\n",
       "      <td>1</td>\n",
       "      <td>0</td>\n",
       "      <td>0</td>\n",
       "      <td>0</td>\n",
       "      <td>0</td>\n",
       "      <td>1</td>\n",
       "    </tr>\n",
       "  </tbody>\n",
       "</table>\n",
       "</div>"
      ],
      "text/plain": [
       "   Survived  Pclass  Sex      Fare  FamilySize  Age_cat  Initial_0  Initial_1  \\\n",
       "0         0       3    1  1.981001           2        2          0          0   \n",
       "1         1       1    0  4.266662           2        3          0          0   \n",
       "2         1       3    0  2.070022           1        2          0          1   \n",
       "3         1       1    0  3.972177           2        3          0          0   \n",
       "4         0       3    1  2.085672           1        3          0          0   \n",
       "\n",
       "   Initial_2  Initial_3  Initial_4  Embarked_0  Embarked_1  Embarked_2  \n",
       "0          1          0          0           0           0           1  \n",
       "1          0          1          0           1           0           0  \n",
       "2          0          0          0           0           0           1  \n",
       "3          0          1          0           0           0           1  \n",
       "4          1          0          0           0           0           1  "
      ]
     },
     "execution_count": 73,
     "metadata": {},
     "output_type": "execute_result"
    }
   ],
   "source": [
    "df_train.head()"
   ]
  },
  {
   "cell_type": "code",
   "execution_count": 74,
   "metadata": {},
   "outputs": [
    {
     "data": {
      "text/html": [
       "<div>\n",
       "<style scoped>\n",
       "    .dataframe tbody tr th:only-of-type {\n",
       "        vertical-align: middle;\n",
       "    }\n",
       "\n",
       "    .dataframe tbody tr th {\n",
       "        vertical-align: top;\n",
       "    }\n",
       "\n",
       "    .dataframe thead th {\n",
       "        text-align: right;\n",
       "    }\n",
       "</style>\n",
       "<table border=\"1\" class=\"dataframe\">\n",
       "  <thead>\n",
       "    <tr style=\"text-align: right;\">\n",
       "      <th></th>\n",
       "      <th>Pclass</th>\n",
       "      <th>Sex</th>\n",
       "      <th>Fare</th>\n",
       "      <th>FamilySize</th>\n",
       "      <th>Age_cat</th>\n",
       "      <th>Initial_0</th>\n",
       "      <th>Initial_1</th>\n",
       "      <th>Initial_2</th>\n",
       "      <th>Initial_3</th>\n",
       "      <th>Initial_4</th>\n",
       "      <th>Embarked_0</th>\n",
       "      <th>Embarked_1</th>\n",
       "      <th>Embarked_2</th>\n",
       "    </tr>\n",
       "  </thead>\n",
       "  <tbody>\n",
       "    <tr>\n",
       "      <th>0</th>\n",
       "      <td>3</td>\n",
       "      <td>1</td>\n",
       "      <td>2.057860</td>\n",
       "      <td>1</td>\n",
       "      <td>3</td>\n",
       "      <td>0</td>\n",
       "      <td>0</td>\n",
       "      <td>1</td>\n",
       "      <td>0</td>\n",
       "      <td>0</td>\n",
       "      <td>0</td>\n",
       "      <td>1</td>\n",
       "      <td>0</td>\n",
       "    </tr>\n",
       "    <tr>\n",
       "      <th>1</th>\n",
       "      <td>3</td>\n",
       "      <td>0</td>\n",
       "      <td>1.945910</td>\n",
       "      <td>2</td>\n",
       "      <td>4</td>\n",
       "      <td>0</td>\n",
       "      <td>0</td>\n",
       "      <td>0</td>\n",
       "      <td>1</td>\n",
       "      <td>0</td>\n",
       "      <td>0</td>\n",
       "      <td>0</td>\n",
       "      <td>1</td>\n",
       "    </tr>\n",
       "    <tr>\n",
       "      <th>2</th>\n",
       "      <td>2</td>\n",
       "      <td>1</td>\n",
       "      <td>2.270836</td>\n",
       "      <td>1</td>\n",
       "      <td>6</td>\n",
       "      <td>0</td>\n",
       "      <td>0</td>\n",
       "      <td>1</td>\n",
       "      <td>0</td>\n",
       "      <td>0</td>\n",
       "      <td>0</td>\n",
       "      <td>1</td>\n",
       "      <td>0</td>\n",
       "    </tr>\n",
       "    <tr>\n",
       "      <th>3</th>\n",
       "      <td>3</td>\n",
       "      <td>1</td>\n",
       "      <td>2.159003</td>\n",
       "      <td>1</td>\n",
       "      <td>2</td>\n",
       "      <td>0</td>\n",
       "      <td>0</td>\n",
       "      <td>1</td>\n",
       "      <td>0</td>\n",
       "      <td>0</td>\n",
       "      <td>0</td>\n",
       "      <td>0</td>\n",
       "      <td>1</td>\n",
       "    </tr>\n",
       "    <tr>\n",
       "      <th>4</th>\n",
       "      <td>3</td>\n",
       "      <td>0</td>\n",
       "      <td>2.508582</td>\n",
       "      <td>3</td>\n",
       "      <td>2</td>\n",
       "      <td>0</td>\n",
       "      <td>0</td>\n",
       "      <td>0</td>\n",
       "      <td>1</td>\n",
       "      <td>0</td>\n",
       "      <td>0</td>\n",
       "      <td>0</td>\n",
       "      <td>1</td>\n",
       "    </tr>\n",
       "  </tbody>\n",
       "</table>\n",
       "</div>"
      ],
      "text/plain": [
       "   Pclass  Sex      Fare  FamilySize  Age_cat  Initial_0  Initial_1  \\\n",
       "0       3    1  2.057860           1        3          0          0   \n",
       "1       3    0  1.945910           2        4          0          0   \n",
       "2       2    1  2.270836           1        6          0          0   \n",
       "3       3    1  2.159003           1        2          0          0   \n",
       "4       3    0  2.508582           3        2          0          0   \n",
       "\n",
       "   Initial_2  Initial_3  Initial_4  Embarked_0  Embarked_1  Embarked_2  \n",
       "0          1          0          0           0           1           0  \n",
       "1          0          1          0           0           0           1  \n",
       "2          1          0          0           0           1           0  \n",
       "3          1          0          0           0           0           1  \n",
       "4          0          1          0           0           0           1  "
      ]
     },
     "execution_count": 74,
     "metadata": {},
     "output_type": "execute_result"
    }
   ],
   "source": [
    "df_test.head()"
   ]
  },
  {
   "cell_type": "markdown",
   "metadata": {},
   "source": [
    "# 4. Building machine learning model and prediction using the trained model"
   ]
  },
  {
   "cell_type": "code",
   "execution_count": 75,
   "metadata": {},
   "outputs": [],
   "source": [
    "#importing all the required ML packages\n",
    "from sklearn.ensemble import RandomForestClassifier \n",
    "from sklearn import metrics \n",
    "from sklearn.model_selection import train_test_split"
   ]
  },
  {
   "cell_type": "markdown",
   "metadata": {},
   "source": [
    "## 4.1 Preparation - Split dataset into train, valid, test sets"
   ]
  },
  {
   "cell_type": "code",
   "execution_count": 76,
   "metadata": {},
   "outputs": [],
   "source": [
    "X_train = df_train.drop('Survived', axis=1).values\n",
    "target_label = df_train['Survived'].values\n",
    "X_test = df_test.values"
   ]
  },
  {
   "cell_type": "code",
   "execution_count": 77,
   "metadata": {},
   "outputs": [],
   "source": [
    "X_tr, X_vld, y_tr, y_vld = train_test_split(X_train, target_label, test_size=0.3, random_state=2018)"
   ]
  },
  {
   "cell_type": "markdown",
   "metadata": {},
   "source": [
    "## 4.2 Model generation and prediction"
   ]
  },
  {
   "cell_type": "code",
   "execution_count": 78,
   "metadata": {},
   "outputs": [],
   "source": [
    "model = RandomForestClassifier()\n",
    "model.fit(X_tr, y_tr)\n",
    "prediction = model.predict(X_vld)"
   ]
  },
  {
   "cell_type": "code",
   "execution_count": 79,
   "metadata": {},
   "outputs": [
    {
     "name": "stdout",
     "output_type": "stream",
     "text": [
      "82.46268656716418% accuracy out of 268 people to match their survival\n"
     ]
    }
   ],
   "source": [
    "print(f'{100 * metrics.accuracy_score(prediction, y_vld)}% accuracy out of {y_vld.shape[0]} people to match their survival')"
   ]
  },
  {
   "cell_type": "markdown",
   "metadata": {},
   "source": [
    "## 4.3 Feature importance"
   ]
  },
  {
   "cell_type": "code",
   "execution_count": 80,
   "metadata": {},
   "outputs": [],
   "source": [
    "from pandas import Series\n",
    "\n",
    "feature_importance = model.feature_importances_\n",
    "Series_feat_imp = Series(feature_importance, index=df_test.columns)"
   ]
  },
  {
   "cell_type": "code",
   "execution_count": 81,
   "metadata": {},
   "outputs": [
    {
     "data": {
      "image/png": "[encoded data removed]",
      "text/plain": [
       "<Figure size 576x576 with 1 Axes>"
      ]
     },
     "metadata": {
      "needs_background": "light"
     },
     "output_type": "display_data"
    }
   ],
   "source": [
    "plt.figure(figsize=(8, 8))\n",
    "Series_feat_imp.sort_values(ascending=True).plot.barh()\n",
    "plt.xlabel('Feature importance')\n",
    "plt.ylabel('Feature')\n",
    "plt.show()"
   ]
  },
  {
   "cell_type": "markdown",
   "metadata": {},
   "source": [
    "## 4.4 Prediction on test set"
   ]
  },
  {
   "cell_type": "code",
   "execution_count": 82,
   "metadata": {},
   "outputs": [],
   "source": [
    "submission = pd.read_csv(f'{TITANIC_PATH}/gender_submission.csv')"
   ]
  },
  {
   "cell_type": "code",
   "execution_count": 83,
   "metadata": {},
   "outputs": [
    {
     "data": {
      "text/html": [
       "<div>\n",
       "<style scoped>\n",
       "    .dataframe tbody tr th:only-of-type {\n",
       "        vertical-align: middle;\n",
       "    }\n",
       "\n",
       "    .dataframe tbody tr th {\n",
       "        vertical-align: top;\n",
       "    }\n",
       "\n",
       "    .dataframe thead th {\n",
       "        text-align: right;\n",
       "    }\n",
       "</style>\n",
       "<table border=\"1\" class=\"dataframe\">\n",
       "  <thead>\n",
       "    <tr style=\"text-align: right;\">\n",
       "      <th></th>\n",
       "      <th>PassengerId</th>\n",
       "      <th>Survived</th>\n",
       "    </tr>\n",
       "  </thead>\n",
       "  <tbody>\n",
       "    <tr>\n",
       "      <th>0</th>\n",
       "      <td>892</td>\n",
       "      <td>0</td>\n",
       "    </tr>\n",
       "    <tr>\n",
       "      <th>1</th>\n",
       "      <td>893</td>\n",
       "      <td>1</td>\n",
       "    </tr>\n",
       "    <tr>\n",
       "      <th>2</th>\n",
       "      <td>894</td>\n",
       "      <td>0</td>\n",
       "    </tr>\n",
       "    <tr>\n",
       "      <th>3</th>\n",
       "      <td>895</td>\n",
       "      <td>0</td>\n",
       "    </tr>\n",
       "    <tr>\n",
       "      <th>4</th>\n",
       "      <td>896</td>\n",
       "      <td>1</td>\n",
       "    </tr>\n",
       "  </tbody>\n",
       "</table>\n",
       "</div>"
      ],
      "text/plain": [
       "   PassengerId  Survived\n",
       "0          892         0\n",
       "1          893         1\n",
       "2          894         0\n",
       "3          895         0\n",
       "4          896         1"
      ]
     },
     "execution_count": 83,
     "metadata": {},
     "output_type": "execute_result"
    }
   ],
   "source": [
    "submission.head()"
   ]
  },
  {
   "cell_type": "code",
   "execution_count": 84,
   "metadata": {},
   "outputs": [],
   "source": [
    "prediction = model.predict(X_test)\n",
    "submission['Survived'] = prediction"
   ]
  },
  {
   "cell_type": "code",
   "execution_count": 87,
   "metadata": {},
   "outputs": [],
   "source": [
    "submission.to_csv(f'{TITANIC_PATH}/submission.csv', index=False)"
   ]
  },
  {
   "cell_type": "code",
   "execution_count": 88,
   "metadata": {},
   "outputs": [
    {
     "data": {
      "text/plain": [
       "0"
      ]
     },
     "execution_count": 88,
     "metadata": {},
     "output_type": "execute_result"
    }
   ],
   "source": [
    "os.system(f'kaggle competitions submit -c titanic -f {TITANIC_PATH}/submission.csv -m \"Random Forest\"')"
   ]
  }
 ],
 "metadata": {
  "interpreter": {
   "hash": "772605b41b36f31a2d2960bfe6c35aaae43193757111f113e2874952bd0859dd"
  },
  "kernelspec": {
   "display_name": "Python 3.10.0 64-bit",
   "language": "python",
   "name": "python3"
  },
  "language_info": {
   "codemirror_mode": {
    "name": "ipython",
    "version": 3
   },
   "file_extension": ".py",
   "mimetype": "text/x-python",
   "name": "python",
   "nbconvert_exporter": "python",
   "pygments_lexer": "ipython3",
   "version": "3.10.0"
  },
  "orig_nbformat": 4
 },
 "nbformat": 4,
 "nbformat_minor": 2
}
